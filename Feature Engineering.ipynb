{
 "cells": [
  {
   "cell_type": "code",
   "execution_count": 1,
   "metadata": {},
   "outputs": [],
   "source": [
    "#1- What is a parameter?\n",
    "\n",
    "#A parameter is a variable used to define a specific value within a function, procedure, or operation. \n",
    "# In programming, parameters allow you to pass data into functions, making them versatile and reusable.\n"
   ]
  },
  {
   "cell_type": "code",
   "execution_count": 1,
   "metadata": {},
   "outputs": [],
   "source": [
    "#2- What is correlation?\n",
    "#What does negative correlation mean?\n",
    "\n",
    "#Correlation is a statistical measure that describes the extent to which two or more variables move in relation to each other.\n",
    "\n",
    "#Negative Correlation:- When one variable increases while the other decreases. For example, the amount of exercise and body fat percentage might have a negative correlation; as the amount of exercise increases, body fat percentage typically decreases.\n"
   ]
  },
  {
   "cell_type": "code",
   "execution_count": 2,
   "metadata": {},
   "outputs": [],
   "source": [
    "#3- Define Machine Learning. What are the main components in Machine Learning?\n",
    "\n",
    "#Machine Learning (ML) is a branch of artificial intelligence that focuses on the development of algorithms and statistical models that enable computers to perform tasks without explicit instructions, relying on patterns and inference instead.\n",
    "#  It allows systems to learn from and make decisions based on data.\n",
    "\n",
    "#The main components in machine learning...\n",
    "#Data\n",
    "#Features\n",
    "#Model \n",
    "#Training\n",
    "#Validating\n",
    "#Testing\n",
    "#Prediction\n",
    "#Evaluation\n",
    "\n"
   ]
  },
  {
   "cell_type": "code",
   "execution_count": 3,
   "metadata": {},
   "outputs": [],
   "source": [
    "#4- How does loss value help in determining whether the model is good or not?\n",
    "\n",
    "#Loss value is a key metric used to evaluate the performance of a machine learning model.\n",
    "\n",
    "#Indicator of Model Accuracy: Lower loss values generally indicate that the model's predictions are close to the true values.\n",
    "#Training Guidance: During training, the model adjusts its parameters to minimize the loss function.\n"
   ]
  },
  {
   "cell_type": "code",
   "execution_count": 4,
   "metadata": {},
   "outputs": [],
   "source": [
    "#5-What are continuous and categorical variables?\n",
    "\n",
    "#Continuous variables are quantitative and can take an infinite number of values within a given range. They are measurable, and you can perform arithmetic operations on them. Examples include height, weight, temperature, and time.\n",
    "\n",
    "#Categorical variables, on the other hand, are qualitative and can be divided into distinct categories. They often represent characteristics or attributes that don't have a natural order or ranking\n"
   ]
  },
  {
   "cell_type": "code",
   "execution_count": 5,
   "metadata": {},
   "outputs": [],
   "source": [
    "#6- How do we handle categorical variables in Machine Learning? What are the common techniques?\n",
    "\n",
    "#Handling categorical variables in machine learning is crucial for creating effective models.\n",
    " #Here are some effective techniques...\n",
    "\n",
    "#Label Encoding\n",
    "#One-Hot Encoding\n",
    "#Binary Encoding\n",
    "#Target Encoding\n",
    "#Frequency Encoding\n",
    "#Hash Encoding"
   ]
  },
  {
   "cell_type": "code",
   "execution_count": 6,
   "metadata": {},
   "outputs": [],
   "source": [
    "#7- What do you mean by training and testing a dataset?\n",
    "\n",
    "#Training Dataset: This is the portion of your data used to train your machine learning model. During training, the model learns the relationships and patterns within the data. Essentially, it builds its “knowledge” from this dataset.\n",
    "#Testing Dataset: After training, you need to evaluate the model’s performance to see how well it learned from the training data. The testing dataset is a separate portion of your data that the model has not seen before.\n",
    "\n",
    "\n",
    "#Training Dataset: These are the study materials and practice problems you use to prepare.\n",
    "#Testing Dataset: This is the actual exam that tests how well you've learned and can apply the material."
   ]
  },
  {
   "cell_type": "code",
   "execution_count": 7,
   "metadata": {},
   "outputs": [],
   "source": [
    "#8-What is sklearn.preprocessing.\n",
    "\n",
    "#sklearn.preprocessing is a module in the popular Python library, Scikit-learn, which provides various utilities for data preprocessing and feature engineering. \n",
    "# Data preprocessing is a crucial step in machine learning as it prepares your data for modeling.\n"
   ]
  },
  {
   "cell_type": "code",
   "execution_count": 8,
   "metadata": {},
   "outputs": [],
   "source": [
    "#9-What is a Test set?\n",
    "\n",
    "#A test set is a portion of your dataset used to evaluate the performance of a machine learning model after it has been trained.\n",
    "\n",
    "#Here are some key..\n",
    "#Saperate data\n",
    "#Unseen data\n",
    "#Evaluation\n",
    "#Overfitting check"
   ]
  },
  {
   "cell_type": "code",
   "execution_count": 9,
   "metadata": {},
   "outputs": [],
   "source": [
    "#10- How do we split data for model fitting (training and testing) in Python?\n",
    "#How do you approach a Machine Learning problem?\n",
    "\n",
    "#Splitting Data for Model Fitting in Python..\n",
    "#To split your data into training and testing sets, you can use the train_test_split function from the Scikit-learn library. This function randomly splits the data into specified proportions.\n",
    "\n",
    "#Approaching a Machine Learning Problem..\n",
    "#Define the Problem: Clearly understand and define the problem you're trying to solve.\n",
    "#Collect Data: Gather the relevant data needed to solve the problem. Ensure you have enough quality data.\n",
    "#Explore and Understand Data:\n",
    "\n",
    "#Perform exploratory data analysis (EDA) to understand the dataset.\n",
    "\n",
    "#Visualize data to identify patterns, trends, and outliers\n"
   ]
  },
  {
   "cell_type": "code",
   "execution_count": 10,
   "metadata": {},
   "outputs": [],
   "source": [
    "#11-Why do we have to perform EDA before fitting a model to the data?\n",
    "\n",
    "#Performing Exploratory Data Analysis (EDA) before fitting a model is a crucial step in the machine learning workflow.\n",
    "#Understand Data Distribution: EDA helps you understand the distribution of your data, including the central tendency, spread, and shape.\n",
    "#Identify Outliers: It allows you to detect outliers that might skew the results. Outliers can significantly impact the performance of your model, leading to misleading results.\n",
    "#Feature Relationships: EDA helps you understand relationships between different features and between features and the target variable.\n"
   ]
  },
  {
   "cell_type": "code",
   "execution_count": null,
   "metadata": {},
   "outputs": [],
   "source": [
    "#12- What is correlation?\n",
    "\n",
    "#Correlation is a statistical measure that describes the extent to which two variables are related to each other.\n",
    "#  It's a way to quantify the strength and direction of the relationship between two variables.\n"
   ]
  },
  {
   "cell_type": "code",
   "execution_count": null,
   "metadata": {},
   "outputs": [],
   "source": [
    "#13-What does negative correlation mean?\n",
    "\n",
    "#Negative Correlation: When one variable increases, the other variable decreases. \n",
    "# For example, as the speed of a car increases, the travel time decreases. \n",
    "# Negative correlation is represented by values between 0 and -1\n"
   ]
  },
  {
   "cell_type": "code",
   "execution_count": 16,
   "metadata": {},
   "outputs": [],
   "source": [
    "#14-How can you find correlation between variables in Python?\n",
    "\n",
    "#Finding the correlation between variables in Python is straightforward using libraries like Pandas and NumPy.\n",
    "\n",
    "\n"
   ]
  },
  {
   "cell_type": "code",
   "execution_count": 17,
   "metadata": {},
   "outputs": [
    {
     "data": {
      "image/png": "[encoded data removed]",
      "text/plain": [
       "<Figure size 640x480 with 1 Axes>"
      ]
     },
     "metadata": {},
     "output_type": "display_data"
    },
    {
     "name": "stdout",
     "output_type": "stream",
     "text": [
      "Correlation Coefficient: 0.8724042787137847\n"
     ]
    }
   ],
   "source": [
    "#15-What is causation? Explain difference between correlation and causation with an example.\n",
    "\n",
    "#Causation implies that one event is the direct result of the occurrence of another event. In other words, it indicates a cause-and-effect relationship between two variables.\n",
    "\n",
    "#Difference Between Correlation and Causation\n",
    "#Correlation indicates that there is a relationship or association between two variables, but it does not prove that changes in one variable cause changes in the other.\n",
    "\n",
    "#Causation goes a step further by establishing that changes in one variable directly cause changes in another variable\n",
    "\n",
    "import numpy as np\n",
    "import matplotlib.pyplot as plt\n",
    "\n",
    "# Simulating data\n",
    "np.random.seed(42)\n",
    "x = np.random.normal(0, 1, 100)\n",
    "y = 2 * x + np.random.normal(0, 1, 100)\n",
    "\n",
    "# Plotting the correlation\n",
    "plt.scatter(x, y)\n",
    "plt.title('Correlation Example')\n",
    "plt.xlabel('Variable X')\n",
    "plt.ylabel('Variable Y')\n",
    "plt.show()\n",
    "\n",
    "# Calculating correlation coefficient\n",
    "correlation_coefficient = np.corrcoef(x, y)[0, 1]\n",
    "print(f'Correlation Coefficient: {correlation_coefficient}')\n"
   ]
  },
  {
   "cell_type": "code",
   "execution_count": 18,
   "metadata": {},
   "outputs": [
    {
     "name": "stdout",
     "output_type": "stream",
     "text": [
      "Iteration: 1, x: 0.6000000000000001, Loss: 5.76\n",
      "Iteration: 2, x: 1.08, Loss: 3.6864\n",
      "Iteration: 3, x: 1.464, Loss: 2.359296\n",
      "Iteration: 4, x: 1.7711999999999999, Loss: 1.5099494400000002\n",
      "Iteration: 5, x: 2.01696, Loss: 0.9663676415999999\n",
      "Iteration: 6, x: 2.213568, Loss: 0.6184752906240001\n",
      "Iteration: 7, x: 2.3708544, Loss: 0.39582418599936026\n",
      "Iteration: 8, x: 2.49668352, Loss: 0.25332747903959046\n",
      "Iteration: 9, x: 2.597346816, Loss: 0.1621295865853379\n",
      "Iteration: 10, x: 2.6778774528, Loss: 0.10376293541461637\n",
      "Iteration: 11, x: 2.74230196224, Loss: 0.06640827866535438\n",
      "Iteration: 12, x: 2.793841569792, Loss: 0.04250129834582688\n",
      "Iteration: 13, x: 2.8350732558336, Loss: 0.027200830941329145\n",
      "Iteration: 14, x: 2.86805860466688, Loss: 0.017408531802450628\n",
      "Iteration: 15, x: 2.894446883733504, Loss: 0.011141460353568422\n",
      "Iteration: 16, x: 2.9155575069868034, Loss: 0.007130534626283759\n",
      "Iteration: 17, x: 2.932446005589443, Loss: 0.004563542160821594\n",
      "Iteration: 18, x: 2.945956804471554, Loss: 0.0029206669829258394\n",
      "Iteration: 19, x: 2.9567654435772432, Loss: 0.0018692268690725373\n",
      "Iteration: 20, x: 2.9654123548617948, Loss: 0.0011963051962064115\n"
     ]
    }
   ],
   "source": [
    "#16-What is an Optimizer? What are different types of optimizers? Explain each with an example\n",
    "\n",
    "#An optimizer is an algorithm or method used to adjust the weights and biases of a machine learning model to minimize (or maximize) a specific loss (or cost) function. Optimizers play a crucial role in effectively training a model by finding the best parameters that reduce the error of predictions.\n",
    "\n",
    "import numpy as np\n",
    "\n",
    "# Assume loss function is a simple quadratic function\n",
    "def loss_function(x):\n",
    "    return (x - 3) ** 2\n",
    "\n",
    "# Gradient of the loss function\n",
    "def gradient(x):\n",
    "    return 2 * (x - 3)\n",
    "\n",
    "x = 0  # Initial guess\n",
    "learning_rate = 0.1\n",
    "n_iterations = 20\n",
    "\n",
    "for _ in range(n_iterations):\n",
    "    x -= learning_rate * gradient(x)\n",
    "    print(f'Iteration: {_+1}, x: {x}, Loss: {loss_function(x)}')\n"
   ]
  },
  {
   "cell_type": "code",
   "execution_count": 19,
   "metadata": {},
   "outputs": [],
   "source": [
    "#17- What is sklearn.linear_model ?\n",
    "\n",
    "#sklearn.linear_model is a module in Scikit-learn, a popular machine learning library in Python, that provides various linear models for regression and classification tasks\n"
   ]
  },
  {
   "cell_type": "code",
   "execution_count": 21,
   "metadata": {},
   "outputs": [],
   "source": [
    "#18-What does model.fit() do? What arguments must be given?\n",
    "\n",
    "#What model.fit() Does:\n",
    "#Training: The method fits the model to the training data, effectively \"teaching\" the model to make predictions.\n",
    "\n",
    "#Learning Parameters: It calculates the optimal values for the model parameters that minimize the loss function.\n",
    "\n",
    "#Optimization: Depending on the algorithm, it uses different optimization techniques to iteratively update the parameters.\n",
    "\n",
    "#Required Arguments:\n",
    "#X (features): The input data (features) used to train the model. This can be in the form of an array or a DataFrame.\n",
    "\n",
    "#y (target): The target variable (labels) that the model aims to predict. This is also provided as an array or a DataFrame\n",
    "\n"
   ]
  },
  {
   "cell_type": "code",
   "execution_count": 22,
   "metadata": {},
   "outputs": [
    {
     "name": "stdout",
     "output_type": "stream",
     "text": [
      "Collecting sklearn\n",
      "  Downloading sklearn-0.0.post12.tar.gz (2.6 kB)\n",
      "  Installing build dependencies: started\n",
      "  Installing build dependencies: finished with status 'done'\n",
      "  Getting requirements to build wheel: started\n",
      "  Getting requirements to build wheel: finished with status 'error'\n",
      "Note: you may need to restart the kernel to use updated packages.\n"
     ]
    },
    {
     "name": "stderr",
     "output_type": "stream",
     "text": [
      "  error: subprocess-exited-with-error\n",
      "  \n",
      "  × Getting requirements to build wheel did not run successfully.\n",
      "  │ exit code: 1\n",
      "  ╰─> [15 lines of output]\n",
      "      The 'sklearn' PyPI package is deprecated, use 'scikit-learn'\n",
      "      rather than 'sklearn' for pip commands.\n",
      "      \n",
      "      Here is how to fix this error in the main use cases:\n",
      "      - use 'pip install scikit-learn' rather than 'pip install sklearn'\n",
      "      - replace 'sklearn' by 'scikit-learn' in your pip requirements files\n",
      "        (requirements.txt, setup.py, setup.cfg, Pipfile, etc ...)\n",
      "      - if the 'sklearn' package is used by one of your dependencies,\n",
      "        it would be great if you take some time to track which package uses\n",
      "        'sklearn' instead of 'scikit-learn' and report it to their issue tracker\n",
      "      - as a last resort, set the environment variable\n",
      "        SKLEARN_ALLOW_DEPRECATED_SKLEARN_PACKAGE_INSTALL=True to avoid this error\n",
      "      \n",
      "      More information is available at\n",
      "      https://github.com/scikit-learn/sklearn-pypi-package\n",
      "      [end of output]\n",
      "  \n",
      "  note: This error originates from a subprocess, and is likely not a problem with pip.\n",
      "\n",
      "[notice] A new release of pip is available: 24.2 -> 24.3.1\n",
      "[notice] To update, run: python.exe -m pip install --upgrade pip\n",
      "error: subprocess-exited-with-error\n",
      "\n",
      "× Getting requirements to build wheel did not run successfully.\n",
      "│ exit code: 1\n",
      "╰─> See above for output.\n",
      "\n",
      "note: This error originates from a subprocess, and is likely not a problem with pip.\n"
     ]
    }
   ],
   "source": [
    "pip install sklearn"
   ]
  },
  {
   "cell_type": "code",
   "execution_count": 24,
   "metadata": {},
   "outputs": [],
   "source": [
    "#19-What does model.predict() do? What arguments must be given?\n",
    "\n",
    "#What model.predict() Does:\n",
    "#Prediction: The method uses the model's learned parameters to generate predictions for new data points.\n",
    "\n",
    "#Generalization: It helps in assessing how well the model can generalize to new data beyond the training set.\n",
    "\n",
    "\n"
   ]
  },
  {
   "cell_type": "code",
   "execution_count": 1,
   "metadata": {},
   "outputs": [],
   "source": [
    "#20- What are continuous and categorical variables?\n",
    "\n",
    "#Continuous variables are quantitative and can take an infinite number of values within a given range. They are measurable, and you can perform arithmetic operations on them.\n",
    "# Examples include height, weight, temperature, and time.\n",
    "\n",
    "#Categorical variables, on the other hand, are qualitative and can be divided into distinct categories. They often represent characteristics or attributes that don't have a natural order or ranking.\n",
    "#  Examples include gender, color, and types of cuisine"
   ]
  },
  {
   "cell_type": "code",
   "execution_count": 2,
   "metadata": {},
   "outputs": [],
   "source": [
    "#21- What is feature scaling? How does it help in Machine Learning?\n",
    "\n",
    "#Feature scaling is a preprocessing step used in machine learning to normalize the range of independent variables or features.\n",
    "#  It ensures that each feature contributes equally to the model and helps improve the performance and training stability of the model.\n",
    "\n",
    "#How Feature Scaling Helps in Machine Learning...\n",
    "\n",
    "#Improves Convergence\n",
    "#Reduces Bias\n",
    "#Enhances performances\n",
    "#Improves Interpretability\n"
   ]
  },
  {
   "cell_type": "code",
   "execution_count": 5,
   "metadata": {},
   "outputs": [],
   "source": [
    "#22- How do we perform scaling in Python?\n",
    "\n",
    "#Standardization (Z-score Normalization)\n",
    "#Min-Max Scaling (Normalization)\n",
    "#MaxAbs Scaling\n",
    "#Robust Scaling\n"
   ]
  },
  {
   "cell_type": "code",
   "execution_count": 6,
   "metadata": {},
   "outputs": [],
   "source": [
    "#23-What is sklearn.preprocessing?\n",
    "\n",
    "#sklearn.preprocessing is a module in the popular Python library, Scikit-learn, which provides various utilities for data preprocessing and feature engineering.\n",
    "#Here are some common tools and techniques provided by sklearn.preprocessing...\n",
    "\n",
    "#StandardScaler\n",
    "#MinMaxScaler\n",
    "#LabelEncoder\n",
    "#OneHotcoder\n",
    "#Binarizer\n",
    "#Normalizer"
   ]
  },
  {
   "cell_type": "code",
   "execution_count": 10,
   "metadata": {},
   "outputs": [
    {
     "name": "stdout",
     "output_type": "stream",
     "text": [
      "Collecting scikit-learn\n",
      "  Downloading scikit_learn-1.5.2-cp313-cp313-win_amd64.whl.metadata (13 kB)\n",
      "Requirement already satisfied: numpy>=1.19.5 in c:\\users\\suraj\\appdata\\local\\programs\\python\\python313\\lib\\site-packages (from scikit-learn) (2.1.3)\n",
      "Collecting scipy>=1.6.0 (from scikit-learn)\n",
      "  Downloading scipy-1.14.1-cp313-cp313-win_amd64.whl.metadata (60 kB)\n",
      "Collecting joblib>=1.2.0 (from scikit-learn)\n",
      "  Downloading joblib-1.4.2-py3-none-any.whl.metadata (5.4 kB)\n",
      "Collecting threadpoolctl>=3.1.0 (from scikit-learn)\n",
      "  Downloading threadpoolctl-3.5.0-py3-none-any.whl.metadata (13 kB)\n",
      "Downloading scikit_learn-1.5.2-cp313-cp313-win_amd64.whl (11.0 MB)\n",
      "   ---------------------------------------- 0.0/11.0 MB ? eta -:--:--\n",
      "   --- ------------------------------------ 1.0/11.0 MB 5.7 MB/s eta 0:00:02\n",
      "   ------ --------------------------------- 1.8/11.0 MB 4.3 MB/s eta 0:00:03\n",
      "   -------- ------------------------------- 2.4/11.0 MB 3.7 MB/s eta 0:00:03\n",
      "   ------------- -------------------------- 3.7/11.0 MB 4.2 MB/s eta 0:00:02\n",
      "   ---------------- ----------------------- 4.5/11.0 MB 4.1 MB/s eta 0:00:02\n",
      "   ------------------- -------------------- 5.2/11.0 MB 4.1 MB/s eta 0:00:02\n",
      "   ---------------------- ----------------- 6.0/11.0 MB 4.1 MB/s eta 0:00:02\n",
      "   ------------------------- -------------- 7.1/11.0 MB 4.0 MB/s eta 0:00:01\n",
      "   ---------------------------- ----------- 7.9/11.0 MB 4.0 MB/s eta 0:00:01\n",
      "   ------------------------------- -------- 8.7/11.0 MB 4.0 MB/s eta 0:00:01\n",
      "   --------------------------------- ------ 9.2/11.0 MB 4.0 MB/s eta 0:00:01\n",
      "   ------------------------------------- -- 10.2/11.0 MB 4.0 MB/s eta 0:00:01\n",
      "   ---------------------------------------- 11.0/11.0 MB 3.9 MB/s eta 0:00:00\n",
      "Downloading joblib-1.4.2-py3-none-any.whl (301 kB)\n",
      "Downloading scipy-1.14.1-cp313-cp313-win_amd64.whl (44.5 MB)\n",
      "   ---------------------------------------- 0.0/44.5 MB ? eta -:--:--\n",
      "    --------------------------------------- 0.8/44.5 MB 6.0 MB/s eta 0:00:08\n",
      "   - -------------------------------------- 1.8/44.5 MB 5.0 MB/s eta 0:00:09\n",
      "   -- ------------------------------------- 2.6/44.5 MB 4.6 MB/s eta 0:00:10\n",
      "   --- ------------------------------------ 3.4/44.5 MB 4.4 MB/s eta 0:00:10\n",
      "   --- ------------------------------------ 4.2/44.5 MB 4.3 MB/s eta 0:00:10\n",
      "   ---- ----------------------------------- 5.0/44.5 MB 4.2 MB/s eta 0:00:10\n",
      "   ----- ---------------------------------- 6.0/44.5 MB 4.1 MB/s eta 0:00:10\n",
      "   ------ --------------------------------- 6.8/44.5 MB 4.1 MB/s eta 0:00:10\n",
      "   ------ --------------------------------- 7.6/44.5 MB 4.1 MB/s eta 0:00:10\n",
      "   ------- -------------------------------- 8.4/44.5 MB 4.1 MB/s eta 0:00:09\n",
      "   -------- ------------------------------- 9.2/44.5 MB 4.0 MB/s eta 0:00:09\n",
      "   -------- ------------------------------- 10.0/44.5 MB 4.0 MB/s eta 0:00:09\n",
      "   --------- ------------------------------ 10.7/44.5 MB 4.0 MB/s eta 0:00:09\n",
      "   ---------- ----------------------------- 11.5/44.5 MB 4.0 MB/s eta 0:00:09\n",
      "   ----------- ---------------------------- 12.6/44.5 MB 4.0 MB/s eta 0:00:08\n",
      "   ------------ --------------------------- 13.4/44.5 MB 4.0 MB/s eta 0:00:08\n",
      "   ------------ --------------------------- 14.2/44.5 MB 4.0 MB/s eta 0:00:08\n",
      "   ------------- -------------------------- 14.9/44.5 MB 4.0 MB/s eta 0:00:08\n",
      "   -------------- ------------------------- 15.7/44.5 MB 4.0 MB/s eta 0:00:08\n",
      "   -------------- ------------------------- 16.5/44.5 MB 4.0 MB/s eta 0:00:08\n",
      "   --------------- ------------------------ 17.3/44.5 MB 4.0 MB/s eta 0:00:07\n",
      "   ---------------- ----------------------- 18.4/44.5 MB 4.0 MB/s eta 0:00:07\n",
      "   ----------------- ---------------------- 19.1/44.5 MB 4.0 MB/s eta 0:00:07\n",
      "   ----------------- ---------------------- 19.9/44.5 MB 4.0 MB/s eta 0:00:07\n",
      "   ------------------ --------------------- 20.7/44.5 MB 4.0 MB/s eta 0:00:07\n",
      "   ------------------- -------------------- 21.5/44.5 MB 4.0 MB/s eta 0:00:06\n",
      "   -------------------- ------------------- 22.3/44.5 MB 4.0 MB/s eta 0:00:06\n",
      "   -------------------- ------------------- 23.1/44.5 MB 3.9 MB/s eta 0:00:06\n",
      "   --------------------- ------------------ 23.9/44.5 MB 3.9 MB/s eta 0:00:06\n",
      "   ---------------------- ----------------- 24.6/44.5 MB 3.9 MB/s eta 0:00:06\n",
      "   ---------------------- ----------------- 25.4/44.5 MB 3.9 MB/s eta 0:00:05\n",
      "   ----------------------- ---------------- 26.5/44.5 MB 3.9 MB/s eta 0:00:05\n",
      "   ------------------------ --------------- 27.3/44.5 MB 3.9 MB/s eta 0:00:05\n",
      "   ------------------------- -------------- 28.0/44.5 MB 3.9 MB/s eta 0:00:05\n",
      "   ------------------------- -------------- 28.8/44.5 MB 3.9 MB/s eta 0:00:04\n",
      "   -------------------------- ------------- 29.6/44.5 MB 3.9 MB/s eta 0:00:04\n",
      "   --------------------------- ------------ 30.4/44.5 MB 3.9 MB/s eta 0:00:04\n",
      "   ---------------------------- ----------- 31.2/44.5 MB 3.9 MB/s eta 0:00:04\n",
      "   ----------------------------- ---------- 32.2/44.5 MB 3.9 MB/s eta 0:00:04\n",
      "   ----------------------------- ---------- 33.0/44.5 MB 3.9 MB/s eta 0:00:03\n",
      "   ------------------------------ --------- 33.8/44.5 MB 3.9 MB/s eta 0:00:03\n",
      "   ------------------------------- -------- 34.6/44.5 MB 3.9 MB/s eta 0:00:03\n",
      "   -------------------------------- ------- 35.7/44.5 MB 3.9 MB/s eta 0:00:03\n",
      "   -------------------------------- ------- 36.4/44.5 MB 3.9 MB/s eta 0:00:03\n",
      "   --------------------------------- ------ 37.2/44.5 MB 3.9 MB/s eta 0:00:02\n",
      "   ---------------------------------- ----- 38.0/44.5 MB 3.9 MB/s eta 0:00:02\n",
      "   ---------------------------------- ----- 38.8/44.5 MB 3.9 MB/s eta 0:00:02\n",
      "   ----------------------------------- ---- 39.3/44.5 MB 3.9 MB/s eta 0:00:02\n",
      "   ------------------------------------ --- 40.6/44.5 MB 3.9 MB/s eta 0:00:01\n",
      "   ------------------------------------- -- 41.4/44.5 MB 3.9 MB/s eta 0:00:01\n",
      "   ------------------------------------- -- 42.2/44.5 MB 3.9 MB/s eta 0:00:01\n",
      "   -------------------------------------- - 43.0/44.5 MB 3.9 MB/s eta 0:00:01\n",
      "   ---------------------------------------  43.8/44.5 MB 3.9 MB/s eta 0:00:01\n",
      "   ---------------------------------------- 44.5/44.5 MB 3.9 MB/s eta 0:00:00\n",
      "Downloading threadpoolctl-3.5.0-py3-none-any.whl (18 kB)\n",
      "Installing collected packages: threadpoolctl, scipy, joblib, scikit-learn\n",
      "Successfully installed joblib-1.4.2 scikit-learn-1.5.2 scipy-1.14.1 threadpoolctl-3.5.0\n",
      "Note: you may need to restart the kernel to use updated packages.\n"
     ]
    },
    {
     "name": "stderr",
     "output_type": "stream",
     "text": [
      "\n",
      "[notice] A new release of pip is available: 24.2 -> 24.3.1\n",
      "[notice] To update, run: python.exe -m pip install --upgrade pip\n"
     ]
    }
   ],
   "source": [
    "pip install scikit-learn"
   ]
  },
  {
   "cell_type": "code",
   "execution_count": 12,
   "metadata": {},
   "outputs": [
    {
     "name": "stdout",
     "output_type": "stream",
     "text": [
      "X_train: [[ 9 10]\n",
      " [ 5  6]\n",
      " [ 1  2]\n",
      " [ 7  8]]\n",
      "X_test: [[3 4]]\n",
      "y_train: [0 0 0 1]\n",
      "y_test: [1]\n"
     ]
    }
   ],
   "source": [
    "#24-How do we split data for model fitting (training and testing) in Python?\n",
    "\n",
    "#Certainly! Splitting data for model fitting (training and testing) in Python is straightforward using the train_test_split function from Scikit-learn\n",
    "\n",
    "from sklearn.model_selection import train_test_split\n",
    "import numpy as np\n",
    "\n",
    "# Example data\n",
    "X = np.array([[1, 2], [3, 4], [5, 6], [7, 8], [9, 10]])\n",
    "y = np.array([0, 1, 0, 1, 0])\n",
    "\n",
    "# Split the data\n",
    "X_train, X_test, y_train, y_test = train_test_split(X, y, test_size=0.2, random_state=42)\n",
    "\n",
    "print(\"X_train:\", X_train)\n",
    "print(\"X_test:\", X_test)\n",
    "print(\"y_train:\", y_train)\n",
    "print(\"y_test:\", y_test)\n"
   ]
  },
  {
   "cell_type": "code",
   "execution_count": 14,
   "metadata": {},
   "outputs": [],
   "source": [
    "#25-Explain data encoding?\n",
    "\n",
    "#Data encoding is a crucial preprocessing step in machine learning that transforms categorical data into numerical format so that machine learning algorithms can process it effectively\n",
    "\n",
    "#Label Encoding\n",
    "#One-Hot-Encoding\n",
    "#Binary Encoding\n",
    "#Target Encoding\n",
    "#Frequency Encoding\n",
    "\n"
   ]
  },
  {
   "cell_type": "code",
   "execution_count": null,
   "metadata": {},
   "outputs": [],
   "source": []
  }
 ],
 "metadata": {
  "kernelspec": {
   "display_name": "Python 3",
   "language": "python",
   "name": "python3"
  },
  "language_info": {
   "codemirror_mode": {
    "name": "ipython",
    "version": 3
   },
   "file_extension": ".py",
   "mimetype": "text/x-python",
   "name": "python",
   "nbconvert_exporter": "python",
   "pygments_lexer": "ipython3",
   "version": "3.13.0"
  }
 },
 "nbformat": 4,
 "nbformat_minor": 2
}
